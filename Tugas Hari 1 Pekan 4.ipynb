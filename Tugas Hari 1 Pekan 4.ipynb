{
 "cells": [
  {
   "cell_type": "markdown",
   "metadata": {
    "colab_type": "text",
    "id": "47NOwo3UNcRl"
   },
   "source": [
    "<h1>Soal 1: Pemahaman Machine Learning</h1>\n",
    "\n",
    "Jawab/Kerjakan pertanyaan/perintah di bawah ini dengan bahasa kalian sendiri:\n",
    "\n",
    "- Apa itu machine learning?\n",
    "- Apa itu data feature dan data target?\n",
    "- Apa Perbedaan Supervised Learning dan Unsupervised Learning?\n",
    "- Apa Jenis2 yang ada di dalam Supervised Learning? Jelaskan Perbedaannya!\n",
    "- Apa perbedaan Hyperparameter dan Parameter?\n",
    "- Sebutkan Langkah-langkah dalam mengaplikasikan algoritma apapun dalam machine learning!"
   ]
  },
  {
   "cell_type": "markdown",
   "metadata": {
    "colab_type": "text",
    "id": "58I1LJFoNcRv"
   },
   "source": [
    "- Machine learning : \n",
    "    cabang dari Artificial Inteligence (kecerdasan buatan). Dalam machine learning kita membuat code untuk memerintahkan mesin agar dapat belajar dan melakukan improvisasi dari pengalaman (data), kemudian membuat sebuah keputusan atau prediksi di masa depan.\n",
    "\n",
    "- Data Feature dan Data Target : \n",
    "    Features merupakan suatu variabel data yang independen. Model prediksi menggunakan fitur untuk membuat prediksi. Fitur baru juga dapat diperoleh dari fitur lama menggunakan metode yang dikenal sebagai 'rekayasa fitur'. Sederhananya, Anda dapat mempertimbangkan satu kolom dari kumpulan data Anda sebagai satu fitur. Terkadang ini juga disebut atribut. Dan jumlah fitur disebut dimensi. Sedangkan data target dikenal juga sebagai label dan dalam dunia statistik sebagai dependet variables. \n",
    "\n",
    "- Perbedaan Supervised Learning dan Unsupervised Learning : \n",
    "    Supervised learning adalah sebuah pendekatan dimana sudah terdapat data yang dilatih, dan terdapat variable yang ditargetkan sehingga tujuan dari pendekatan ini adalah mengkelompokan suatu data ke data yang sudah ada, lain halnya dengan unsupervised learning, unsupervised learning tidak memiliki data latih, sehingga dari data yang ada, kita mengelompokan data tersebut menjadi 2 bagian atau 3 bagian dan seterusnya.\n",
    "\n",
    "- Jenis2 yang ada di dalam Supervised Learning : \n",
    "    raw data, interpretation, algorithm, processing. memiliki kolom/data label dan outputny jelas.\n",
    "\n",
    "- perbedaan Hyperparameter dan Parameters :\n",
    "    Parameters itu nilainya bisa didapatkan secara langsung saat proses training model sedangkan Hyperparameters itu tidak bisa didapatkan secara langsung pada proses training. Hyperparameters nilainya fix sebelum proses training model. Contoh dari Hyperparameters adalah Penalty pada Logistic Regression.\n",
    "    \n",
    "- Langkah-langkah dalam mengaplikasikan algoritma apapun dalam machine learning :\n",
    "    1. Pilih model atau algoritma yang akan digunakan\n",
    "    2. pilih hyperparameter ketika membuat objek model\n",
    "    3. pisahkan antara data feature dan data target\n",
    "    4. perintahkan model untuk mempelajari data dengan menggunakan method.fit()\n",
    "    5. Aplikasikan model ke dalam test data dengan menggunakan method.predict() untuk supervised learning atau .transform() dan .predict() untuk unsupervised learning"
   ]
  },
  {
   "cell_type": "markdown",
   "metadata": {
    "colab_type": "text",
    "id": "jI50HJDgNcRz"
   },
   "source": [
    "<h1>Soal 2: Pemahaman Machine Learning</h1>\n",
    "\n",
    "Pelajarilah secara garis besar suatu model/algoritma machine learning, kemudian aplikasikan untuk membuat model bagi data (variable x, y) di bawah ini. Kemudian buatlah prediksi terhadap data training dan data baru di interval 20-30.\n",
    "\n",
    "- Plot data asli, data hasil prediksi terhadap data training, data hasil prediksi terhadap data baru\n",
    "- Tunjukan beberapa parameter yang dimiliki model yang telah kalian buat"
   ]
  },
  {
   "cell_type": "code",
   "execution_count": 1,
   "metadata": {
    "colab": {},
    "colab_type": "code",
    "id": "QotZc3UbNcR9",
    "outputId": "eac5b4f0-6932-446a-ebb2-5eaefadd583b"
   },
   "outputs": [
    {
     "data": {
      "image/png": "[encoded data removed]",
      "text/plain": [
       "<Figure size 864x432 with 1 Axes>"
      ]
     },
     "metadata": {
      "needs_background": "light"
     },
     "output_type": "display_data"
    }
   ],
   "source": [
    "import matplotlib.pyplot as plt\n",
    "import numpy as np\n",
    "\n",
    "rng = np.random.RandomState(42)\n",
    "x = 20 * rng.rand(50)\n",
    "y = x**2 + 2 * x + - 1 + rng.randn(50)\n",
    "\n",
    "# data yang akan di prediksi\n",
    "x_new = np.arange(20, 30, 0.5)\n",
    "\n",
    "fig, ax = plt.subplots(figsize=(12, 6))\n",
    "ax.scatter(x, y)\n",
    "ax.set_xlabel('X-Value')\n",
    "ax.set_ylabel('Y-Value')\n",
    "plt.show()"
   ]
  },
  {
   "cell_type": "markdown",
   "metadata": {
    "colab_type": "text",
    "id": "3wrMfFusNcS6"
   },
   "source": [
    "Contoh jawaban hasil pembuatan model dengan algoritma DecisionTreeRegressor (jawaban tidak harus sama):\n",
    "\n",
    "![alt text](https://drive.google.com/uc?id=1R0mGnMp3DqEsHDiH2_IL4XSS2Roew0wo)"
   ]
  },
  {
   "cell_type": "markdown",
   "metadata": {
    "colab_type": "text",
    "id": "4Vs7RhxRNcS_"
   },
   "source": [
    "Contoh jawaban parameters (tidak harus sama):\n",
    "\n",
    "- Feature Importance : array([1.])\n",
    "- n features : 1\n",
    "  \n",
    "Tree Graph :\n",
    "\n",
    "![alt text](https://drive.google.com/uc?id=1GM0ba_qjm_e5oLhE9v6pVt2uRBBW6FH9)"
   ]
  },
  {
   "cell_type": "code",
   "execution_count": 5,
   "metadata": {
    "colab": {},
    "colab_type": "code",
    "id": "AQKlYTdSbL9o"
   },
   "outputs": [],
   "source": [
    "# Code here\n",
    "import matplotlib.pyplot as plt\n",
    "import numpy as np\n",
    "\n",
    "rng = np.random.RandomState(42)\n",
    "x = 20 * rng.rand(50)\n",
    "y = x**2 + 2 * x + - 1 + rng.randn(50)\n",
    "\n",
    "# data yang akan di prediksi\n",
    "x_new = np.arange(20, 30, 0.5)\n"
   ]
  },
  {
   "cell_type": "code",
   "execution_count": 6,
   "metadata": {},
   "outputs": [],
   "source": [
    "from sklearn.linear_model import LinearRegression"
   ]
  },
  {
   "cell_type": "code",
   "execution_count": 7,
   "metadata": {},
   "outputs": [],
   "source": [
    "model_lr = LinearRegression(fit_intercept=True)"
   ]
  },
  {
   "cell_type": "code",
   "execution_count": 12,
   "metadata": {},
   "outputs": [
    {
     "data": {
      "text/plain": [
       "(50,)"
      ]
     },
     "execution_count": 12,
     "metadata": {},
     "output_type": "execute_result"
    }
   ],
   "source": [
    "#sklearn  menerima data input bentuk matriks bukan vektor. Vektor 1 dimensi, Matriks data 2 dimensi\n",
    "y.shape #menunjukkan x merupakan vektor"
   ]
  },
  {
   "cell_type": "code",
   "execution_count": 6,
   "metadata": {},
   "outputs": [
    {
     "data": {
      "text/plain": [
       "(50, 1)"
      ]
     },
     "execution_count": 6,
     "metadata": {},
     "output_type": "execute_result"
    }
   ],
   "source": [
    "x_matrix = x[:, np.newaxis]\n",
    "x_matrix.shape"
   ]
  },
  {
   "cell_type": "code",
   "execution_count": 7,
   "metadata": {},
   "outputs": [
    {
     "data": {
      "text/plain": [
       "LinearRegression()"
      ]
     },
     "execution_count": 7,
     "metadata": {},
     "output_type": "execute_result"
    }
   ],
   "source": [
    "#me training model memprediksi data menggunakan metode fit\n",
    "# model_lr.fit(input_data, output data)\n",
    "model_lr.fit(x_matrix, y)\n",
    "\n",
    "#model sudah di training"
   ]
  },
  {
   "cell_type": "code",
   "execution_count": 8,
   "metadata": {},
   "outputs": [
    {
     "data": {
      "text/plain": [
       "array([20. , 20.5, 21. , 21.5, 22. , 22.5, 23. , 23.5, 24. , 24.5, 25. ,\n",
       "       25.5, 26. , 26.5, 27. , 27.5, 28. , 28.5, 29. , 29.5])"
      ]
     },
     "execution_count": 8,
     "metadata": {},
     "output_type": "execute_result"
    }
   ],
   "source": [
    "x_new = np.arange(20, 30, 0.5)\n",
    "x_new"
   ]
  },
  {
   "cell_type": "code",
   "execution_count": 9,
   "metadata": {},
   "outputs": [
    {
     "data": {
      "text/plain": [
       "(20, 1)"
      ]
     },
     "execution_count": 9,
     "metadata": {},
     "output_type": "execute_result"
    }
   ],
   "source": [
    "x_new = x_new[:, np.newaxis]\n",
    "x_new.shape"
   ]
  },
  {
   "cell_type": "code",
   "execution_count": 10,
   "metadata": {},
   "outputs": [],
   "source": [
    "y_train = model_lr.predict(x_matrix)"
   ]
  },
  {
   "cell_type": "code",
   "execution_count": 11,
   "metadata": {},
   "outputs": [],
   "source": [
    "y_test = model_lr.predict(x_new)"
   ]
  },
  {
   "cell_type": "code",
   "execution_count": 12,
   "metadata": {},
   "outputs": [
    {
     "data": {
      "text/plain": [
       "array([367.2976605 , 378.04576111, 388.79386171, 399.54196232,\n",
       "       410.29006292, 421.03816352, 431.78626413, 442.53436473,\n",
       "       453.28246534, 464.03056594, 474.77866655, 485.52676715,\n",
       "       496.27486775, 507.02296836, 517.77106896, 528.51916957,\n",
       "       539.26727017, 550.01537077, 560.76347138, 571.51157198])"
      ]
     },
     "execution_count": 12,
     "metadata": {},
     "output_type": "execute_result"
    }
   ],
   "source": [
    "y_test"
   ]
  },
  {
   "cell_type": "code",
   "execution_count": 13,
   "metadata": {},
   "outputs": [
    {
     "data": {
      "image/png": "[encoded data removed]",
      "text/plain": [
       "<Figure size 864x576 with 1 Axes>"
      ]
     },
     "metadata": {
      "needs_background": "light"
     },
     "output_type": "display_data"
    }
   ],
   "source": [
    "fig, ax = plt.subplots(figsize=(12, 8))\n",
    "\n",
    "ax.scatter(x,y, color='green', label='Data Asli')\n",
    "ax.plot(x, y_train, label='Model Training')\n",
    "ax.plot(x_new, y_test, label='Test Result/Hasil prediksi')\n",
    "ax.legend()\n",
    "plt.show()"
   ]
  },
  {
   "cell_type": "code",
   "execution_count": null,
   "metadata": {},
   "outputs": [],
   "source": []
  }
 ],
 "metadata": {
  "colab": {
   "collapsed_sections": [],
   "name": "Tugas Hari 1 Pekan 4.ipynb",
   "provenance": []
  },
  "kernelspec": {
   "display_name": "Python 3",
   "language": "python",
   "name": "python3"
  },
  "language_info": {
   "codemirror_mode": {
    "name": "ipython",
    "version": 3
   },
   "file_extension": ".py",
   "mimetype": "text/x-python",
   "name": "python",
   "nbconvert_exporter": "python",
   "pygments_lexer": "ipython3",
   "version": "3.7.4"
  }
 },
 "nbformat": 4,
 "nbformat_minor": 1
}
